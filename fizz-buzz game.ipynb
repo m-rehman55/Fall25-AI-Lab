{
 "cells": [
  {
   "cell_type": "code",
   "execution_count": 1,
   "id": "5957cbee",
   "metadata": {},
   "outputs": [
    {
     "name": "stdout",
     "output_type": "stream",
     "text": [
      "Welcome to the FizzBuzz Game!\n",
      "Rules:\n",
      "- Say 'Fizz' if number divisible by 3\n",
      "- Say 'Buzz' if number divisible by 5\n",
      "- Say 'Fizz Buzz' if divisible by both 3 and 5\n",
      "- Otherwise, just say the number itself\n",
      "Game starts now!\n",
      "\n"
     ]
    }
   ],
   "source": [
    "print(\"Welcome to the FizzBuzz Game!\")\n",
    "print(\"Rules:\")\n",
    "print(\"- Say 'Fizz' if number divisible by 3\")\n",
    "print(\"- Say 'Buzz' if number divisible by 5\")\n",
    "print(\"- Say 'Fizz Buzz' if divisible by both 3 and 5\")\n",
    "print(\"- Otherwise, just say the number itself\")\n",
    "print(\"Game starts now!\\n\")"
   ]
  },
  {
   "cell_type": "code",
   "execution_count": null,
   "id": "3ab17f42",
   "metadata": {},
   "outputs": [
    {
     "name": "stdout",
     "output_type": "stream",
     "text": [
      "correct\n",
      "correct\n",
      "correct\n",
      "correct\n",
      "correct\n",
      "Congratulation! you completed all 100 rounds.\n",
      "Your total scores: 5\n"
     ]
    }
   ],
   "source": [
    "score = 0\n",
    "for num in range(1,101):\n",
    "    if num % 3 == 0 and num % 5 == 0:\n",
    "        correct = \"Fizz Buzz\"\n",
    "    elif num % 3 == 0:\n",
    "       correct = \"Fizz\"\n",
    "    elif num % 5 == 0:\n",
    "       correct = \"Buzz\"   \n",
    "    else:\n",
    "        correct = str(num)\n",
    "    \n",
    "    ans = input(f\"Your turn for {num}: \")\n",
    "    \n",
    "    if ans.strip() == correct:\n",
    "        print(\"correct\")\n",
    "        score += 1\n",
    "    else:\n",
    "        print(f\"Answer was wrong:  {correct}\")    \n",
    "        print(\"Game Over\")\n",
    "        score += 0\n",
    "        print(f\"Your total scores: {score}\")\n",
    "        break\n",
    "        \n",
    "else:\n",
    "    print(\"Congratulation! you completed all 100 rounds.\")    \n",
    "    print(f\"Your total scores: {score}\")\n",
    "           "
   ]
  }
 ],
 "metadata": {
  "kernelspec": {
   "display_name": "base",
   "language": "python",
   "name": "python3"
  },
  "language_info": {
   "codemirror_mode": {
    "name": "ipython",
    "version": 3
   },
   "file_extension": ".py",
   "mimetype": "text/x-python",
   "name": "python",
   "nbconvert_exporter": "python",
   "pygments_lexer": "ipython3",
   "version": "3.12.4"
  }
 },
 "nbformat": 4,
 "nbformat_minor": 5
}
