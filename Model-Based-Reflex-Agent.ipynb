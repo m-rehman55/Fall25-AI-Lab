{
 "cells": [
  {
   "cell_type": "code",
   "execution_count": 1,
   "id": "ab09c5f2",
   "metadata": {},
   "outputs": [
    {
     "name": "stdout",
     "output_type": "stream",
     "text": [
      "Living Room: Current temperature = 18°C. Turn on heater.\n",
      "Bedroom: Current temperature = 22°C. Turn off heater.\n",
      "Kitchen: Current temperature = 20°C. Turn on heater.\n",
      "Bathroom: Current temperature = 24°C. Turn off heater.\n"
     ]
    }
   ],
   "source": [
    "class ModelBasedReflexAgent:\n",
    "    def __init__(self, desired_temperature):\n",
    "        self.desired_temperature = desired_temperature\n",
    "        self.previous_action = None  \n",
    "\n",
    "    def perceive(self, current_temperature):\n",
    "       \n",
    "        return current_temperature\n",
    "\n",
    "    def act(self, current_temperature):\n",
    "        \n",
    "        if current_temperature < self.desired_temperature:\n",
    "            if self.previous_action != \"Turn on heater\":   \n",
    "                action = \"Turn on heater\"\n",
    "                self.previous_action = action\n",
    "            else:\n",
    "                action = \"No action (heater already on)\"\n",
    "        \n",
    "    \n",
    "        else:\n",
    "            if self.previous_action != \"Turn off heater\": \n",
    "                action = \"Turn off heater\"\n",
    "                self.previous_action = action\n",
    "            else:\n",
    "                action = \"No action (heater already off)\"\n",
    "        \n",
    "        return action\n",
    "rooms = {\n",
    "    \"Living Room\": 18,\n",
    "    \"Bedroom\": 22,\n",
    "    \"Kitchen\": 20,\n",
    "    \"Bathroom\": 24\n",
    "}\n",
    "\n",
    "desired_temperature = 22\n",
    "agent = ModelBasedReflexAgent(desired_temperature)\n",
    "\n",
    "# Run the agent for each room\n",
    "for room, temperature in rooms.items():\n",
    "    action = agent.act(temperature)\n",
    "    print(f\"{room}: Current temperature = {temperature}°C. {action}.\")\n"
   ]
  }
 ],
 "metadata": {
  "kernelspec": {
   "display_name": "base",
   "language": "python",
   "name": "python3"
  },
  "language_info": {
   "codemirror_mode": {
    "name": "ipython",
    "version": 3
   },
   "file_extension": ".py",
   "mimetype": "text/x-python",
   "name": "python",
   "nbconvert_exporter": "python",
   "pygments_lexer": "ipython3",
   "version": "3.12.4"
  }
 },
 "nbformat": 4,
 "nbformat_minor": 5
}
